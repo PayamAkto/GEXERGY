{
  "nbformat": 4,
  "nbformat_minor": 0,
  "metadata": {
    "colab": {
      "name": "GR_ML_DAY1.ipynb",
      "provenance": [],
      "collapsed_sections": [],
      "include_colab_link": true
    },
    "kernelspec": {
      "display_name": "Python 3",
      "name": "python3"
    }
  },
  "cells": [
    {
      "cell_type": "markdown",
      "metadata": {
        "id": "view-in-github",
        "colab_type": "text"
      },
      "source": [
        "<a href=\"https://colab.research.google.com/github/PayamAkto/GEXERGY/blob/main/ML/DL%20in%20geothermal-GR_ML_DAY1.ipynb\" target=\"_parent\"><img src=\"https://colab.research.google.com/assets/colab-badge.svg\" alt=\"Open In Colab\"/></a>"
      ]
    },
    {
      "cell_type": "markdown",
      "metadata": {
        "id": "HP6W6UdF3EgB"
      },
      "source": [
        "# **GR Machine Learning and Geostatistics workshop Day 1** \n",
        "\n"
      ]
    },
    {
      "cell_type": "markdown",
      "metadata": {
        "id": "3NhotfRMneYp"
      },
      "source": [
        "##Part 1: Introduction to Python and Colab\n",
        "\n",
        "Outline\n",
        "\n",
        "*  Python Data Structures\n",
        "*  Numpy\n",
        "*  Pandas/data import\n",
        "*  Matplotlib\n",
        "*  Scikit Learn\n"
      ]
    },
    {
      "cell_type": "markdown",
      "metadata": {
        "id": "oJ-WqrJ6X03s"
      },
      "source": [
        "# New Section"
      ]
    },
    {
      "cell_type": "markdown",
      "metadata": {
        "id": "RqrNRrTctKIB"
      },
      "source": [
        "Colab is a powerful cloud based environment for running python codes. To get used to the enviroment check out the tabs above and those on the left. Below we mount our script to the google drive to access any cloud based files. "
      ]
    },
    {
      "cell_type": "code",
      "metadata": {
        "id": "95NA3RFndeuw"
      },
      "source": [
        "from google.colab import drive\n",
        "drive.mount('/content/drive')"
      ],
      "execution_count": null,
      "outputs": []
    },
    {
      "cell_type": "markdown",
      "metadata": {
        "id": "Z6nknXHrlmIq"
      },
      "source": [
        "We will jump into Python data types and structures. This section will cover: \n",
        "*   string\n",
        "*   float\n",
        "*   int\n",
        "*   boolean\n",
        "*   list\n",
        "*   dictionary\n",
        "*   Loop\n",
        "*   Function\n",
        "\n"
      ]
    },
    {
      "cell_type": "markdown",
      "metadata": {
        "id": "FMhIuOvet4C3"
      },
      "source": [
        "You can select the option to create a section of text or code and exucute it by using shift + enter\n",
        "\n",
        "Other than shift+enter, code can be run by pressing the play button on the left or going to 'Runtime' tab above and selecting run selection or run all"
      ]
    },
    {
      "cell_type": "code",
      "metadata": {
        "colab": {
          "background_save": true
        },
        "id": "GGREk0j7SoYa"
      },
      "source": [
        "#You can use text or comment in your code use the # or else use three quotation marks: \n",
        "\n",
        "\"\"\" Hello Geothermal World! \"\"\""
      ],
      "execution_count": null,
      "outputs": []
    },
    {
      "cell_type": "code",
      "metadata": {
        "colab": {
          "background_save": true
        },
        "id": "-PBBc5V2dyT2"
      },
      "source": [
        "#Note that in python you must properly indent your code. The first line can't have an indent.\n",
        "\n",
        "#Creation of string\n",
        "\n",
        "print('Hello Geothermal World!')"
      ],
      "execution_count": null,
      "outputs": []
    },
    {
      "cell_type": "code",
      "metadata": {
        "colab": {
          "base_uri": "https://localhost:8080/"
        },
        "id": "wffTKZ4EbTvh",
        "outputId": "a5cc4acb-a495-416f-a7f8-74477baa1280"
      },
      "source": [
        "#You can use two quote marks or one\n",
        "\n",
        "print(\"Hello\")"
      ],
      "execution_count": null,
      "outputs": [
        {
          "output_type": "stream",
          "text": [
            "Hello\n"
          ],
          "name": "stdout"
        }
      ]
    },
    {
      "cell_type": "code",
      "metadata": {
        "colab": {
          "base_uri": "https://localhost:8080/"
        },
        "id": "JDcIK6XwlOnN",
        "outputId": "afbabacc-098a-45ea-d8e4-1b3f1d798eb5"
      },
      "source": [
        "#int \n",
        "x=2 \n",
        "print(x)"
      ],
      "execution_count": null,
      "outputs": [
        {
          "output_type": "stream",
          "text": [
            "2\n"
          ],
          "name": "stdout"
        }
      ]
    },
    {
      "cell_type": "code",
      "metadata": {
        "colab": {
          "base_uri": "https://localhost:8080/"
        },
        "id": "x9bVwFPplRaZ",
        "outputId": "9e58657d-2821-4e32-b1ab-d23cbcb7f94e"
      },
      "source": [
        "#float\n",
        "y = 3.1415\n",
        "print(y)"
      ],
      "execution_count": null,
      "outputs": [
        {
          "output_type": "stream",
          "text": [
            "3.1415\n"
          ],
          "name": "stdout"
        }
      ]
    },
    {
      "cell_type": "code",
      "metadata": {
        "colab": {
          "base_uri": "https://localhost:8080/"
        },
        "id": "jF62R7PUlbLg",
        "outputId": "30cc5f55-ef6b-4111-ab4b-a7dfb5dd8a4e"
      },
      "source": [
        "#Boolean    \n",
        "print(type(True)) \n",
        "print(1>2)\n",
        "print('a'=='a')"
      ],
      "execution_count": null,
      "outputs": [
        {
          "output_type": "stream",
          "text": [
            "<class 'bool'>\n",
            "False\n",
            "True\n"
          ],
          "name": "stdout"
        }
      ]
    },
    {
      "cell_type": "code",
      "metadata": {
        "colab": {
          "base_uri": "https://localhost:8080/"
        },
        "id": "BMXjENYebhDk",
        "outputId": "3f9f10d7-9eb7-4736-f434-989726dc2c26"
      },
      "source": [
        "#List   \n",
        "List = ['Geo']  \n",
        "print(List)  "
      ],
      "execution_count": null,
      "outputs": [
        {
          "output_type": "stream",
          "text": [
            "['Geo']\n"
          ],
          "name": "stdout"
        }
      ]
    },
    {
      "cell_type": "code",
      "metadata": {
        "colab": {
          "base_uri": "https://localhost:8080/"
        },
        "id": "eWJFwL4ddxmp",
        "outputId": "7c04b29a-2b1c-4c4f-f1c8-ad831acacc7e"
      },
      "source": [
        "# Creating a list of strings\n",
        "List = ['Geo', 'Code'] \n",
        "print(List)  "
      ],
      "execution_count": null,
      "outputs": [
        {
          "output_type": "stream",
          "text": [
            "['Geo', 'Code']\n"
          ],
          "name": "stdout"
        }
      ]
    },
    {
      "cell_type": "code",
      "metadata": {
        "colab": {
          "base_uri": "https://localhost:8080/"
        },
        "id": "0HSXGjikbm7u",
        "outputId": "8703dd9a-18b6-4de5-b431-b0c8780299ad"
      },
      "source": [
        "# Creating a Multi-Dimensional (2D) List  \n",
        "List = [['Geo', 'Code'], ['Rocks']]  \n",
        "print(List)"
      ],
      "execution_count": null,
      "outputs": [
        {
          "output_type": "stream",
          "text": [
            "[['Geo', 'Code'], ['Rocks']]\n"
          ],
          "name": "stdout"
        }
      ]
    },
    {
      "cell_type": "code",
      "metadata": {
        "colab": {
          "base_uri": "https://localhost:8080/"
        },
        "id": "aYKHWyT0eIc4",
        "outputId": "20f57655-7868-470c-ffdf-f1f48172605f"
      },
      "source": [
        "#Accessing elements from the List –\n",
        "\n",
        "#Use the index operator [ ] to access an item in a list. \n",
        "#In Python, negative sequence indexes represent positions from the end of the array. \n",
        "#Instead of having to compute the offset as in List[len(List)-3], it is enough to just write List[-3].\n",
        " \n",
        "List = [1, 2, 3, 4, 5, 6]  \n",
        "     \n",
        "# accessing a element\n",
        "\n",
        "#Note that in python 0 is the first element \n",
        "\n",
        "print(List[0])   \n",
        "print(List[2]) \n",
        "# Negative indexing\n",
        "# print the last element of list  \n",
        "print(List[-1])\n",
        "# print the third last element of list   \n",
        "print(List[-3]) "
      ],
      "execution_count": null,
      "outputs": [
        {
          "output_type": "stream",
          "text": [
            "1\n",
            "3\n",
            "6\n",
            "4\n"
          ],
          "name": "stdout"
        }
      ]
    },
    {
      "cell_type": "code",
      "metadata": {
        "colab": {
          "base_uri": "https://localhost:8080/"
        },
        "id": "IVayfhCMe0tJ",
        "outputId": "dbc8aa8e-7382-4e29-cff2-abcca9f9b666"
      },
      "source": [
        "#Dictionary  \n",
        "#Store values with indexable keys \n",
        "Dict = {1: 'Geo', 2: 'Code', 3: 'Rocks'}\n",
        "print(Dict)  "
      ],
      "execution_count": null,
      "outputs": [
        {
          "output_type": "stream",
          "text": [
            "{1: 'Geo', 2: 'Code', 3: 'Rocks'}\n"
          ],
          "name": "stdout"
        }
      ]
    },
    {
      "cell_type": "code",
      "metadata": {
        "colab": {
          "base_uri": "https://localhost:8080/",
          "height": 35
        },
        "id": "WK2eDjTTmWCo",
        "outputId": "7a20fa80-38d1-4ddf-d313-fedeb4883b85"
      },
      "source": [
        "Dict[3]"
      ],
      "execution_count": null,
      "outputs": [
        {
          "output_type": "execute_result",
          "data": {
            "application/vnd.google.colaboratory.intrinsic+json": {
              "type": "string"
            },
            "text/plain": [
              "'Rocks'"
            ]
          },
          "metadata": {
            "tags": []
          },
          "execution_count": 12
        }
      ]
    },
    {
      "cell_type": "code",
      "metadata": {
        "colab": {
          "base_uri": "https://localhost:8080/"
        },
        "id": "bERSAf_Cl8pv",
        "outputId": "78632016-f177-410d-d0b2-daea9c517df6"
      },
      "source": [
        "#Dictionary with Mixed keys  \n",
        "Dict = {'Geo': 'Rocks', 1: [1, 2, 3, 4]}\n",
        "print(Dict) "
      ],
      "execution_count": null,
      "outputs": [
        {
          "output_type": "stream",
          "text": [
            "{'Geo': 'Rocks', 1: [1, 2, 3, 4]}\n"
          ],
          "name": "stdout"
        }
      ]
    },
    {
      "cell_type": "code",
      "metadata": {
        "colab": {
          "base_uri": "https://localhost:8080/"
        },
        "id": "1-XrELV5maR7",
        "outputId": "30058044-2092-469d-9be5-dab66e854b24"
      },
      "source": [
        "Dict[1]"
      ],
      "execution_count": null,
      "outputs": [
        {
          "output_type": "execute_result",
          "data": {
            "text/plain": [
              "[1, 2, 3, 4]"
            ]
          },
          "metadata": {
            "tags": []
          },
          "execution_count": 14
        }
      ]
    },
    {
      "cell_type": "markdown",
      "metadata": {
        "id": "NalJbpeP3hII"
      },
      "source": [
        "Loop"
      ]
    },
    {
      "cell_type": "code",
      "metadata": {
        "colab": {
          "base_uri": "https://localhost:8080/"
        },
        "id": "FPcpNrnJ3kkC",
        "outputId": "e17603ea-a1c1-4ef9-b36b-6a17d6026233"
      },
      "source": [
        "#Example of a for loop that appends values to a list\n",
        "List = [] #append works with lists, arrays, and \n",
        "K = range(5)\n",
        "for i in K:\n",
        "  x = 1 + i\n",
        "  List.append(x)\n",
        "List"
      ],
      "execution_count": null,
      "outputs": [
        {
          "output_type": "execute_result",
          "data": {
            "text/plain": [
              "[1, 2, 3, 4, 5]"
            ]
          },
          "metadata": {
            "tags": []
          },
          "execution_count": 46
        }
      ]
    },
    {
      "cell_type": "markdown",
      "metadata": {
        "id": "-F-1ffI73jX8"
      },
      "source": [
        "Function"
      ]
    },
    {
      "cell_type": "code",
      "metadata": {
        "colab": {
          "base_uri": "https://localhost:8080/"
        },
        "id": "LPaOOT2F4lzZ",
        "outputId": "bdc7a4ba-2c6d-44f3-8956-27444c57a074"
      },
      "source": [
        "#Functions are very useful to automate and modulate code. \n",
        "\"\"\"This is a simple function with a singular input, an if statement, and two possible outputs. \n",
        "To set up  a function preface with def, then set keyword (here it is say_hi) and input parameters (input)\n",
        "Follow that with a colon :\"\"\"\n",
        "\n",
        "def say_hi(input):\n",
        "  if input == str('hi'): \n",
        "    print('Hello Geothermal World')\n",
        "  else:\n",
        "    print('Meep meep?')\n",
        "\n",
        "#call the function\n",
        "say_hi('hi')"
      ],
      "execution_count": null,
      "outputs": [
        {
          "output_type": "stream",
          "text": [
            "Hello Geothermal World\n"
          ],
          "name": "stdout"
        }
      ]
    },
    {
      "cell_type": "code",
      "metadata": {
        "colab": {
          "base_uri": "https://localhost:8080/"
        },
        "id": "_vXOa59pI1Zo",
        "outputId": "58062b38-dfd8-43a2-9822-e3c9a9377e8f"
      },
      "source": [
        "say_hi('meep')"
      ],
      "execution_count": null,
      "outputs": [
        {
          "output_type": "stream",
          "text": [
            "Meep meep?\n"
          ],
          "name": "stdout"
        }
      ]
    },
    {
      "cell_type": "markdown",
      "metadata": {
        "id": "wyVV56x-mhTK"
      },
      "source": [
        "### Numpy"
      ]
    },
    {
      "cell_type": "code",
      "metadata": {
        "colab": {
          "base_uri": "https://localhost:8080/"
        },
        "id": "fZbBu5f7mjPf",
        "outputId": "5aefed31-db85-49b1-98c2-9b7678ba125d"
      },
      "source": [
        "#Most basic addition, subtraction, multiplication, etc., operations do not require numpy\n",
        "\n",
        "x = 2+2\n",
        "x"
      ],
      "execution_count": null,
      "outputs": [
        {
          "output_type": "execute_result",
          "data": {
            "text/plain": [
              "4"
            ]
          },
          "metadata": {
            "tags": []
          },
          "execution_count": 18
        }
      ]
    },
    {
      "cell_type": "markdown",
      "metadata": {
        "id": "91pVNCpNu9xW"
      },
      "source": [
        "Numpy is helpful for math with arrays, lists, matricies, etc., of data and to access built in functions (e.g., sin, pi, sqrt). For more check out https://numpy.org/"
      ]
    },
    {
      "cell_type": "code",
      "metadata": {
        "id": "ANzuWC21kSa_"
      },
      "source": [
        "#Here we access the numpy module. we can create our own modules and access those as well!\n",
        "#with import we make code in one module available in another.\n",
        "\n",
        "#we can turn the import into an acronym for simplicity (np)\n",
        "import numpy as np"
      ],
      "execution_count": null,
      "outputs": []
    },
    {
      "cell_type": "code",
      "metadata": {
        "colab": {
          "base_uri": "https://localhost:8080/"
        },
        "id": "46BT1w8SmoU1",
        "outputId": "5089843a-1771-4e9e-8b74-6489f6988382"
      },
      "source": [
        "#Example array \n",
        "x = np.array([1, 2, 3])\n",
        "y = np.array([1.1,2.2,3.3])\n",
        "\n",
        "z = x*y\n",
        "print(z)"
      ],
      "execution_count": null,
      "outputs": [
        {
          "output_type": "stream",
          "text": [
            "[1.1 4.4 9.9]\n"
          ],
          "name": "stdout"
        }
      ]
    },
    {
      "cell_type": "markdown",
      "metadata": {
        "id": "T9Hh76Vps0GQ"
      },
      "source": [
        "###Matplotlib "
      ]
    },
    {
      "cell_type": "markdown",
      "metadata": {
        "id": "G2NQrqNMvEsy"
      },
      "source": [
        "Matplot lib is used to visualize data and builds on the numpy framework. For more check out https://matplotlib.org/"
      ]
    },
    {
      "cell_type": "code",
      "metadata": {
        "id": "4l6-gSdfUihG"
      },
      "source": [
        "#we can turn the import into an acronym for simplicity (plt)\n",
        "\n",
        "import matplotlib.pyplot as plt"
      ],
      "execution_count": null,
      "outputs": []
    },
    {
      "cell_type": "code",
      "metadata": {
        "colab": {
          "base_uri": "https://localhost:8080/",
          "height": 329
        },
        "id": "I4CG3DY-qCVX",
        "outputId": "659667af-6ae9-4cab-e0db-04bc2449ad6f"
      },
      "source": [
        "plt.scatter(x,y)\n",
        "plt.plot(x,y) #plots can overlay eachother\n",
        "plt.title('X vs Y',fontsize = 25)\n",
        "plt.xlabel('x',fontsize = 18)\n",
        "plt.ylabel('y',fontsize = 18)"
      ],
      "execution_count": null,
      "outputs": [
        {
          "output_type": "execute_result",
          "data": {
            "text/plain": [
              "Text(0, 0.5, 'y')"
            ]
          },
          "metadata": {
            "tags": []
          },
          "execution_count": 4
        },
        {
          "output_type": "display_data",
          "data": {
            "image/png": "[encoded data removed]",
            "text/plain": [
              "<Figure size 432x288 with 1 Axes>"
            ]
          },
          "metadata": {
            "tags": []
          }
        }
      ]
    },
    {
      "cell_type": "markdown",
      "metadata": {
        "id": "jtYyvlN1s3-g"
      },
      "source": [
        "###Pandas"
      ]
    },
    {
      "cell_type": "markdown",
      "metadata": {
        "id": "-N-hcqhzvH0I"
      },
      "source": [
        "Pandas is a very effective module to handle and import data for more check out https://pandas.pydata.org/"
      ]
    },
    {
      "cell_type": "code",
      "metadata": {
        "id": "GoNFK1p9Ug-L"
      },
      "source": [
        "#we can turn the import into an acronym for simplicity (pd)\n",
        "\n",
        "import pandas as pd"
      ],
      "execution_count": null,
      "outputs": []
    },
    {
      "cell_type": "code",
      "metadata": {
        "id": "rkyQwnP8qsfg"
      },
      "source": [
        "#We can use pandas to work with different files. \n",
        "#It can both read and write files, such as csv, excel, txt, html, pickle, etc., \n",
        "\n",
        "#For this example and the next module we have data stored as a csv accessible through a GITHUB link \n",
        "url = 'https://raw.githubusercontent.com/connormacs/Geothermal-Rising-ML-GeoStats-Workshop/main/PFA_TSITES.csv'"
      ],
      "execution_count": null,
      "outputs": []
    },
    {
      "cell_type": "code",
      "metadata": {
        "colab": {
          "base_uri": "https://localhost:8080/",
          "height": 326
        },
        "id": "SZhzrpZXrRkU",
        "outputId": "58fca330-b278-4845-9107-839e170ea5b0"
      },
      "source": [
        "#pandas can read the url as a csv and output a dataframe (table)\n",
        "Dataframe = pd.read_csv(url)\n",
        "Dataframe.head()"
      ],
      "execution_count": null,
      "outputs": [
        {
          "output_type": "execute_result",
          "data": {
            "text/html": [
              "<div>\n",
              "<style scoped>\n",
              "    .dataframe tbody tr th:only-of-type {\n",
              "        vertical-align: middle;\n",
              "    }\n",
              "\n",
              "    .dataframe tbody tr th {\n",
              "        vertical-align: top;\n",
              "    }\n",
              "\n",
              "    .dataframe thead th {\n",
              "        text-align: right;\n",
              "    }\n",
              "</style>\n",
              "<table border=\"1\" class=\"dataframe\">\n",
              "  <thead>\n",
              "    <tr style=\"text-align: right;\">\n",
              "      <th></th>\n",
              "      <th>Id</th>\n",
              "      <th>QuaternaryFaultDensity</th>\n",
              "      <th>HorizGravityGradient2</th>\n",
              "      <th>GeodeticStrainRate</th>\n",
              "      <th>QuaternarySlipRate</th>\n",
              "      <th>FaultRecency</th>\n",
              "      <th>FaultSlipDilationTendency</th>\n",
              "      <th>Earthquakes</th>\n",
              "      <th>HorizMagneticGradient2</th>\n",
              "      <th>Heatflow</th>\n",
              "      <th>DEM-30m</th>\n",
              "      <th>X_83UTM11</th>\n",
              "      <th>Y_83UTM11</th>\n",
              "      <th>TrainCodeNeg</th>\n",
              "      <th>TrainCodePos</th>\n",
              "      <th>TrainCodePosT130</th>\n",
              "      <th>TrainCodePosT37</th>\n",
              "      <th>NAME</th>\n",
              "      <th>MAX_MAXT</th>\n",
              "      <th>Blind</th>\n",
              "      <th>POWER</th>\n",
              "      <th>E_utm83</th>\n",
              "      <th>N_utm83</th>\n",
              "      <th>Depth(m)</th>\n",
              "    </tr>\n",
              "  </thead>\n",
              "  <tbody>\n",
              "    <tr>\n",
              "      <th>0</th>\n",
              "      <td>6</td>\n",
              "      <td>1.285103</td>\n",
              "      <td>-1.179981</td>\n",
              "      <td>1.327701</td>\n",
              "      <td>-0.875585</td>\n",
              "      <td>-1.595637</td>\n",
              "      <td>0.116588</td>\n",
              "      <td>0.187495</td>\n",
              "      <td>1.161904</td>\n",
              "      <td>0.765071</td>\n",
              "      <td>-0.387379</td>\n",
              "      <td>325827.6902</td>\n",
              "      <td>4261213.766</td>\n",
              "      <td>12</td>\n",
              "      <td>1</td>\n",
              "      <td>12</td>\n",
              "      <td>1</td>\n",
              "      <td>Grant View Hot Springs</td>\n",
              "      <td>53.0</td>\n",
              "      <td>no</td>\n",
              "      <td>0.0</td>\n",
              "      <td>325910.7938</td>\n",
              "      <td>4261123.388</td>\n",
              "      <td>NaN</td>\n",
              "    </tr>\n",
              "    <tr>\n",
              "      <th>1</th>\n",
              "      <td>78</td>\n",
              "      <td>0.200934</td>\n",
              "      <td>3.224230</td>\n",
              "      <td>0.042698</td>\n",
              "      <td>0.925116</td>\n",
              "      <td>-0.450002</td>\n",
              "      <td>-0.557711</td>\n",
              "      <td>0.779572</td>\n",
              "      <td>-0.095253</td>\n",
              "      <td>-1.670693</td>\n",
              "      <td>-0.949648</td>\n",
              "      <td>626327.6902</td>\n",
              "      <td>4262713.766</td>\n",
              "      <td>12</td>\n",
              "      <td>1</td>\n",
              "      <td>1</td>\n",
              "      <td>12</td>\n",
              "      <td>Bacon Flat</td>\n",
              "      <td>130.0</td>\n",
              "      <td>yes</td>\n",
              "      <td>0.0</td>\n",
              "      <td>626240.6513</td>\n",
              "      <td>4262689.377</td>\n",
              "      <td>NaN</td>\n",
              "    </tr>\n",
              "    <tr>\n",
              "      <th>2</th>\n",
              "      <td>27</td>\n",
              "      <td>0.530642</td>\n",
              "      <td>0.346868</td>\n",
              "      <td>1.670390</td>\n",
              "      <td>2.105045</td>\n",
              "      <td>0.760399</td>\n",
              "      <td>-0.140574</td>\n",
              "      <td>2.492251</td>\n",
              "      <td>1.213427</td>\n",
              "      <td>0.415872</td>\n",
              "      <td>-1.109560</td>\n",
              "      <td>356327.6902</td>\n",
              "      <td>4263213.766</td>\n",
              "      <td>12</td>\n",
              "      <td>1</td>\n",
              "      <td>12</td>\n",
              "      <td>1</td>\n",
              "      <td>Hawthorne 1</td>\n",
              "      <td>97.0</td>\n",
              "      <td>yes</td>\n",
              "      <td>0.0</td>\n",
              "      <td>356239.0985</td>\n",
              "      <td>4263285.061</td>\n",
              "      <td>NaN</td>\n",
              "    </tr>\n",
              "    <tr>\n",
              "      <th>3</th>\n",
              "      <td>82</td>\n",
              "      <td>2.520683</td>\n",
              "      <td>-0.845162</td>\n",
              "      <td>-0.276014</td>\n",
              "      <td>-0.920538</td>\n",
              "      <td>-1.178281</td>\n",
              "      <td>-0.632902</td>\n",
              "      <td>1.053704</td>\n",
              "      <td>-0.589872</td>\n",
              "      <td>-1.448916</td>\n",
              "      <td>-0.250680</td>\n",
              "      <td>555077.6902</td>\n",
              "      <td>4263713.766</td>\n",
              "      <td>12</td>\n",
              "      <td>1</td>\n",
              "      <td>1</td>\n",
              "      <td>12</td>\n",
              "      <td>Hot Creek Ranch Hot Spr</td>\n",
              "      <td>160.0</td>\n",
              "      <td>no</td>\n",
              "      <td>0.0</td>\n",
              "      <td>555117.5865</td>\n",
              "      <td>4263714.281</td>\n",
              "      <td>NaN</td>\n",
              "    </tr>\n",
              "    <tr>\n",
              "      <th>4</th>\n",
              "      <td>31</td>\n",
              "      <td>0.328629</td>\n",
              "      <td>3.224230</td>\n",
              "      <td>0.004236</td>\n",
              "      <td>0.698215</td>\n",
              "      <td>-0.420560</td>\n",
              "      <td>-0.177550</td>\n",
              "      <td>0.706009</td>\n",
              "      <td>-0.899009</td>\n",
              "      <td>-1.639976</td>\n",
              "      <td>-0.923856</td>\n",
              "      <td>628327.6902</td>\n",
              "      <td>4269213.766</td>\n",
              "      <td>12</td>\n",
              "      <td>1</td>\n",
              "      <td>12</td>\n",
              "      <td>1</td>\n",
              "      <td>Blue Eagle Springs</td>\n",
              "      <td>41.0</td>\n",
              "      <td>no</td>\n",
              "      <td>0.0</td>\n",
              "      <td>628207.4400</td>\n",
              "      <td>4269285.723</td>\n",
              "      <td>NaN</td>\n",
              "    </tr>\n",
              "  </tbody>\n",
              "</table>\n",
              "</div>"
            ],
            "text/plain": [
              "   Id  QuaternaryFaultDensity  ...      N_utm83  Depth(m)\n",
              "0   6                1.285103  ...  4261123.388       NaN\n",
              "1  78                0.200934  ...  4262689.377       NaN\n",
              "2  27                0.530642  ...  4263285.061       NaN\n",
              "3  82                2.520683  ...  4263714.281       NaN\n",
              "4  31                0.328629  ...  4269285.723       NaN\n",
              "\n",
              "[5 rows x 24 columns]"
            ]
          },
          "metadata": {
            "tags": []
          },
          "execution_count": 7
        }
      ]
    },
    {
      "cell_type": "markdown",
      "metadata": {
        "id": "6C9mIo7peM2m"
      },
      "source": [
        "###Scikit Learn\n",
        "Scikit learn is a robust library for machine learning with many tools for ML and statistical modeling. For more info check out https://scikit-learn.org/stable/index.html"
      ]
    },
    {
      "cell_type": "markdown",
      "metadata": {
        "id": "l-Y-_ZHFfKyY"
      },
      "source": [
        "Here we will show an example with k-means clustering"
      ]
    },
    {
      "cell_type": "code",
      "metadata": {
        "colab": {
          "base_uri": "https://localhost:8080/",
          "height": 265
        },
        "id": "CTVw6XlvgFZS",
        "outputId": "1528f4ed-5f04-4de3-b7e7-2a77cc7f3c2e"
      },
      "source": [
        "#First we can generate some random data that we know will have 2 cluster groups\n",
        "\n",
        "#Generate random float values from 0.0 - 1.0\n",
        "X= -2 * np.random.rand(100,2) #Generate 100 random samples with 2 dimensions\n",
        "X1 = 1 + 2 * np.random.rand(50,2)  #Generate 50 random samples with 2 dimensions\n",
        "X[50:100, :] = X1\n",
        "plt.scatter(X[ : , 0], X[ :, 1], s = 50, c = 'b')\n",
        "plt.show()"
      ],
      "execution_count": null,
      "outputs": [
        {
          "output_type": "display_data",
          "data": {
            "image/png": "[encoded data removed]",
            "text/plain": [
              "<Figure size 432x288 with 1 Axes>"
            ]
          },
          "metadata": {
            "tags": []
          }
        }
      ]
    },
    {
      "cell_type": "code",
      "metadata": {
        "colab": {
          "base_uri": "https://localhost:8080/"
        },
        "id": "OqVN6NnsCYwj",
        "outputId": "e4f1978c-736d-4120-d402-8c854fd6a6e5"
      },
      "source": [
        "#Next we can introduce the sklearn K-Means module and find cluster centroid locations\n",
        "\n",
        "from sklearn.cluster import KMeans\n",
        "Kmean = KMeans(n_clusters=2)\n",
        "Kmean.fit(X)\n",
        "Kmean.cluster_centers_"
      ],
      "execution_count": null,
      "outputs": [
        {
          "output_type": "execute_result",
          "data": {
            "text/plain": [
              "array([[ 2.01910044,  1.97870696],\n",
              "       [-0.98924821, -0.8752704 ]])"
            ]
          },
          "metadata": {
            "tags": []
          },
          "execution_count": 22
        }
      ]
    },
    {
      "cell_type": "code",
      "metadata": {
        "colab": {
          "base_uri": "https://localhost:8080/",
          "height": 265
        },
        "id": "8O8MRYjxeu-X",
        "outputId": "c27e9a36-93d6-4123-f4b3-b9421bbaeddd"
      },
      "source": [
        "#Plot the data with the cluster centers\n",
        "\n",
        "plt.scatter(X[ : , 0], X[ : , 1], s =50, c='b')\n",
        "plt.scatter(2.01559419, 2.02597093, s=200, c='r', marker='s',label = 'cluster 0')\n",
        "plt.scatter(-0.94665068, -0.97138368, s=200, c='g', marker='s',label = 'cluster 1')\n",
        "plt.legend()\n",
        "plt.show()"
      ],
      "execution_count": null,
      "outputs": [
        {
          "output_type": "display_data",
          "data": {
            "image/png": "[encoded data removed]",
            "text/plain": [
              "<Figure size 432x288 with 1 Axes>"
            ]
          },
          "metadata": {
            "tags": []
          }
        }
      ]
    },
    {
      "cell_type": "code",
      "metadata": {
        "colab": {
          "base_uri": "https://localhost:8080/"
        },
        "id": "t_7m7DuDgYpM",
        "outputId": "ba0cab98-2b89-4830-bdb9-7612e9980abf"
      },
      "source": [
        "Kmean.labels_"
      ],
      "execution_count": null,
      "outputs": [
        {
          "output_type": "execute_result",
          "data": {
            "text/plain": [
              "array([1, 1, 1, 1, 1, 1, 1, 1, 1, 1, 1, 1, 1, 1, 1, 1, 1, 1, 1, 1, 1, 1,\n",
              "       1, 1, 1, 1, 1, 1, 1, 1, 1, 1, 1, 1, 1, 1, 1, 1, 1, 1, 1, 1, 1, 1,\n",
              "       1, 1, 1, 1, 1, 1, 0, 0, 0, 0, 0, 0, 0, 0, 0, 0, 0, 0, 0, 0, 0, 0,\n",
              "       0, 0, 0, 0, 0, 0, 0, 0, 0, 0, 0, 0, 0, 0, 0, 0, 0, 0, 0, 0, 0, 0,\n",
              "       0, 0, 0, 0, 0, 0, 0, 0, 0, 0, 0, 0], dtype=int32)"
            ]
          },
          "metadata": {
            "tags": []
          },
          "execution_count": 17
        }
      ]
    },
    {
      "cell_type": "code",
      "metadata": {
        "colab": {
          "base_uri": "https://localhost:8080/"
        },
        "id": "P6lgRSE0fjud",
        "outputId": "9e5d3cd9-e66c-495e-c446-04ed2a8859f9"
      },
      "source": [
        "#Finally we can use the trained model to predict a classification label for a new data point\n",
        "sample_test=np.array([-3.0,-3.0])\n",
        "second_test=sample_test.reshape(1, -1)\n",
        "Kmean.predict(second_test)"
      ],
      "execution_count": null,
      "outputs": [
        {
          "output_type": "execute_result",
          "data": {
            "text/plain": [
              "array([1], dtype=int32)"
            ]
          },
          "metadata": {
            "tags": []
          },
          "execution_count": 18
        }
      ]
    },
    {
      "cell_type": "code",
      "metadata": {
        "colab": {
          "base_uri": "https://localhost:8080/"
        },
        "id": "U31hXU43g1Al",
        "outputId": "b528f20d-546b-4aa9-ba95-16bd93d17f98"
      },
      "source": [
        "sample_test=np.array([3.0,3.0])\n",
        "second_test=sample_test.reshape(1, -1)\n",
        "Kmean.predict(second_test)"
      ],
      "execution_count": null,
      "outputs": [
        {
          "output_type": "execute_result",
          "data": {
            "text/plain": [
              "array([0], dtype=int32)"
            ]
          },
          "metadata": {
            "tags": []
          },
          "execution_count": 19
        }
      ]
    },
    {
      "cell_type": "markdown",
      "metadata": {
        "id": "iv3xdp6ggd2T"
      },
      "source": [
        "We see the model predicts the location of each new test location correctly"
      ]
    },
    {
      "cell_type": "markdown",
      "metadata": {
        "id": "CHw8O_Zq0tlE"
      },
      "source": [
        "#Part 2: Introduction to Deep Learning"
      ]
    },
    {
      "cell_type": "markdown",
      "metadata": {
        "id": "oNsUtNVt8Dlj"
      },
      "source": [
        "**These set of codes are used to carry out basic introduction to Deep Learning programming concepts**"
      ]
    },
    {
      "cell_type": "markdown",
      "metadata": {
        "id": "ea-dKJKb8OOo"
      },
      "source": [
        "**Exercise**: Set test to \"Hello Geothermal World\" in the cell below to print \"Hello Geothermal World\" then run the two cells below. Because this is a string, do not forget to include the inverted commas (\" \").\n",
        "\n",
        "**Remember**: - Run your cells using SHIFT+ENTER (or \"Run cell\")."
      ]
    },
    {
      "cell_type": "code",
      "metadata": {
        "id": "U8SK2wxp76Yb"
      },
      "source": [
        "test= \"Hello Geothermal world!\""
      ],
      "execution_count": null,
      "outputs": []
    },
    {
      "cell_type": "code",
      "metadata": {
        "id": "58VWrf7t997e",
        "colab": {
          "base_uri": "https://localhost:8080/"
        },
        "outputId": "67d0a50d-ff9b-4c9c-8bbe-acce45fa8e06"
      },
      "source": [
        "print (\"test: \" + test)"
      ],
      "execution_count": null,
      "outputs": [
        {
          "output_type": "stream",
          "text": [
            "test: Hello Geothermal world!\n"
          ],
          "name": "stdout"
        }
      ]
    },
    {
      "cell_type": "markdown",
      "metadata": {
        "id": "WdwckfKr_Cyb"
      },
      "source": [
        "Now that you have confirmed that your notebook is working, let us start coding."
      ]
    },
    {
      "cell_type": "code",
      "metadata": {
        "id": "pFe_tsYvh3wP"
      },
      "source": [
        ""
      ],
      "execution_count": null,
      "outputs": []
    },
    {
      "cell_type": "markdown",
      "metadata": {
        "id": "u8IMt6tn0jn-"
      },
      "source": [
        "## Build a Simple Neural Network"
      ]
    },
    {
      "cell_type": "markdown",
      "metadata": {
        "id": "WT6pizCG0pj9"
      },
      "source": [
        "This exercise was modified from the code by Usman Malik (https://stackabuse.com/creating-a-neural-network-from-scratch-in-python/)"
      ]
    },
    {
      "cell_type": "markdown",
      "metadata": {
        "id": "cMTpQDrb147z"
      },
      "source": [
        "Suppose we have some information about locating steam on surface, downhole reservoir temperatures, and knowledge of fracture networks of five locations. We also know whether these locations are geothermal sites. Our dataset looks like this:\n",
        "![Geothermal_site.png](data:image/png;base64,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)"
      ]
    },
    {
      "cell_type": "markdown",
      "metadata": {
        "id": "WUTnNbQX3oCt"
      },
      "source": [
        "It is clearly evident from the dataset that having high downhole temperatures will result in a location being a geothermal site. Our task is to create a neural network that is able to predict whether an unknown location has the possibility of being a geothermal site. This is a type of supervised learning problem where we are given inputs and corresponding correct outputs and our task is to find the mapping between the inputs and the outputs.\n",
        "\n",
        "Note: This is just a fictional dataset. In reality, there are alot of factors to be considered in determining what makes a good geothermal resource."
      ]
    },
    {
      "cell_type": "markdown",
      "metadata": {
        "id": "RLI1knkN5WIW"
      },
      "source": [
        "Let's first create our feature set (input) and the corresponding labels (output). Execute the following script:"
      ]
    },
    {
      "cell_type": "code",
      "metadata": {
        "id": "sct-rhm858S8"
      },
      "source": [
        "import numpy as np\n",
        "feature_set = np.array([[0,1,0],[0,0,1],[1,0,0],[1,1,0],[1,1,1]])\n",
        "labels = np.array([[1,0,0,1,1]])\n",
        "labels = labels.reshape(5,1)"
      ],
      "execution_count": null,
      "outputs": []
    },
    {
      "cell_type": "markdown",
      "metadata": {
        "id": "3qxIFBDg6MlW"
      },
      "source": [
        "The next step is to define hyper parameters for our neural network. Execute the following script to do so:"
      ]
    },
    {
      "cell_type": "code",
      "metadata": {
        "id": "Gcq-g5F76nst"
      },
      "source": [
        "np.random.seed(42)\n",
        "weights = np.random.rand(3,1)\n",
        "bias = np.random.rand(1)\n",
        "lr = 0.05"
      ],
      "execution_count": null,
      "outputs": []
    },
    {
      "cell_type": "markdown",
      "metadata": {
        "id": "5D_1hCEc6zgE"
      },
      "source": [
        "Next, we define our activation function and its derivative"
      ]
    },
    {
      "cell_type": "code",
      "metadata": {
        "id": "hsWKn0sG7Fi0"
      },
      "source": [
        "def sigmoid(x):\n",
        "    return 1/(1+np.exp(-x))"
      ],
      "execution_count": null,
      "outputs": []
    },
    {
      "cell_type": "code",
      "metadata": {
        "id": "sh9oukiv7MWu"
      },
      "source": [
        "def sigmoid_der(x):\n",
        "    return sigmoid(x)*(1-sigmoid(x))"
      ],
      "execution_count": null,
      "outputs": []
    },
    {
      "cell_type": "markdown",
      "metadata": {
        "id": "TquzCBzx7UMl"
      },
      "source": [
        "Now we are ready to train our neural network that will be able to predict whether a location is a potential geothermal site."
      ]
    },
    {
      "cell_type": "code",
      "metadata": {
        "id": "LSKJFtpF7kdD"
      },
      "source": [
        "for epoch in range(20000):\n",
        "  # Store the values from the feature_set to the input variable\n",
        "    inputs = feature_set\n",
        "\n",
        "    # feedforward step1 - find the dot product of the input and the weight vector and add bias to it \n",
        "    XW = np.dot(feature_set, weights) + bias\n",
        "\n",
        "    #feedforward step2 - pass the dot product through the sigmoid activation function\n",
        "    z = sigmoid(XW)\n",
        "\n",
        "\n",
        "    # backpropagation step 1 \n",
        "    # The variable z contains the predicted outputs. The first step of the backpropagation is to find the error.\n",
        "    error = z - labels\n",
        "\n",
        "    # print the error on the screen\n",
        "    print(error.sum())\n",
        "\n",
        "    # backpropagation step 2\n",
        "    # Preparing to differentiate the cost function with respect to each weight\n",
        "    dcost_dpred = error\n",
        "    dpred_dz = sigmoid_der(z)\n",
        "\n",
        "    # Chain rule\n",
        "    z_delta = dcost_dpred * dpred_dz\n",
        "\n",
        "    inputs = feature_set.T\n",
        "    # slope = input x dcost_dpred x dpred_dz\n",
        "    weights -= lr * np.dot(inputs, z_delta)\n",
        "    # weight = weight-(lr * np.dot(inputs, z_delta))\n",
        "\n",
        "    for num in z_delta:\n",
        "        bias -= lr * num"
      ],
      "execution_count": null,
      "outputs": []
    },
    {
      "cell_type": "markdown",
      "metadata": {
        "id": "n-OVQRUp8AIR"
      },
      "source": [
        "After the code runs, we have built our neural network. Let's try to make predictions."
      ]
    },
    {
      "cell_type": "code",
      "metadata": {
        "id": "bpiUMgMA_LgG",
        "colab": {
          "base_uri": "https://localhost:8080/"
        },
        "outputId": "6bfb8df1-e492-491b-c72a-e984074bb9c8"
      },
      "source": [
        "location_6 = np.array([1,0,0])\n",
        "result = sigmoid(np.dot(location_6, weights) + bias)\n",
        "print(result)"
      ],
      "execution_count": null,
      "outputs": [
        {
          "output_type": "stream",
          "text": [
            "[0.00707584]\n"
          ],
          "name": "stdout"
        }
      ]
    },
    {
      "cell_type": "markdown",
      "metadata": {
        "id": "aKD98NCzAXPs"
      },
      "source": [
        "Expected output: [0.00707584]\n",
        " \n",
        "This implies that the location is not a possible geothermal site."
      ]
    },
    {
      "cell_type": "markdown",
      "metadata": {
        "id": "t44D1blS_oaM"
      },
      "source": [
        "Try and see what you get for location_7. There was no steam identified on surface, and there are no known fracture networks, but the downhole temperatures are very high."
      ]
    },
    {
      "cell_type": "code",
      "metadata": {
        "id": "Y_akF_hF_tdm",
        "colab": {
          "base_uri": "https://localhost:8080/",
          "height": 198
        },
        "outputId": "76614fb6-1571-4056-adae-d99a367a5ca5"
      },
      "source": [
        "location_7 = np.array([0,0,1])\n",
        "result = sigmoid(np.dot(location_7, weights) + bias)\n",
        "print(result)"
      ],
      "execution_count": 1,
      "outputs": [
        {
          "output_type": "error",
          "ename": "NameError",
          "evalue": "ignored",
          "traceback": [
            "\u001b[0;31m---------------------------------------------------------------------------\u001b[0m",
            "\u001b[0;31mNameError\u001b[0m                                 Traceback (most recent call last)",
            "\u001b[0;32m<ipython-input-1-b61011a4d24a>\u001b[0m in \u001b[0;36m<module>\u001b[0;34m()\u001b[0m\n\u001b[0;32m----> 1\u001b[0;31m \u001b[0mlocation_7\u001b[0m \u001b[0;34m=\u001b[0m \u001b[0mnp\u001b[0m\u001b[0;34m.\u001b[0m\u001b[0marray\u001b[0m\u001b[0;34m(\u001b[0m\u001b[0;34m[\u001b[0m\u001b[0;36m0\u001b[0m\u001b[0;34m,\u001b[0m\u001b[0;36m0\u001b[0m\u001b[0;34m,\u001b[0m\u001b[0;36m1\u001b[0m\u001b[0;34m]\u001b[0m\u001b[0;34m)\u001b[0m\u001b[0;34m\u001b[0m\u001b[0;34m\u001b[0m\u001b[0m\n\u001b[0m\u001b[1;32m      2\u001b[0m \u001b[0mresult\u001b[0m \u001b[0;34m=\u001b[0m \u001b[0msigmoid\u001b[0m\u001b[0;34m(\u001b[0m\u001b[0mnp\u001b[0m\u001b[0;34m.\u001b[0m\u001b[0mdot\u001b[0m\u001b[0;34m(\u001b[0m\u001b[0mlocation_7\u001b[0m\u001b[0;34m,\u001b[0m \u001b[0mweights\u001b[0m\u001b[0;34m)\u001b[0m \u001b[0;34m+\u001b[0m \u001b[0mbias\u001b[0m\u001b[0;34m)\u001b[0m\u001b[0;34m\u001b[0m\u001b[0;34m\u001b[0m\u001b[0m\n\u001b[1;32m      3\u001b[0m \u001b[0mprint\u001b[0m\u001b[0;34m(\u001b[0m\u001b[0mresult\u001b[0m\u001b[0;34m)\u001b[0m\u001b[0;34m\u001b[0m\u001b[0;34m\u001b[0m\u001b[0m\n",
            "\u001b[0;31mNameError\u001b[0m: name 'np' is not defined"
          ]
        }
      ]
    },
    {
      "cell_type": "markdown",
      "metadata": {
        "id": "KJvwMsd5AHdk"
      },
      "source": [
        "The first line of your code should read \n",
        "location_7 = np.array([0,1,0])\n",
        "\n",
        "Expected output: [0.99837029]\n",
        "\n",
        "This implies that the location is most likely a potential geothermal site.\n"
      ]
    },
    {
      "cell_type": "markdown",
      "metadata": {
        "id": "xehamiOgAzMg"
      },
      "source": [
        "You can sensitize on epoch, learning rate, and even how to initialize the weights and biases."
      ]
    }
  ]
}